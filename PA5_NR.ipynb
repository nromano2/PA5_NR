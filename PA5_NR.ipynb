{
 "cells": [
  {
   "cell_type": "markdown",
   "id": "ea9007a0",
   "metadata": {},
   "source": [
    "## Programming Assignment 5\n",
    "#### Author: Nick Romano\n",
    "#### Version 1.0\n",
    "#### Fall 2021 CS 150-02: Computer Programming for the Liberal Arts"
   ]
  },
  {
   "cell_type": "markdown",
   "id": "355e0d2f",
   "metadata": {},
   "source": [
    "\n",
    "**Language Translator**"
   ]
  },
  {
   "cell_type": "code",
   "execution_count": 1,
   "id": "7574bb30",
   "metadata": {},
   "outputs": [
    {
     "name": "stdout",
     "output_type": "stream",
     "text": [
      "Enter a word to translate from English to Spanish (Type 0 to stop): hello\n",
      "The Spanish word for 'hello' is 'hola'\n",
      "\n",
      "Enter a word to translate from English to Spanish (Type 0 to stop): thank you\n",
      "The Spanish word for 'thank you' is 'por favor'\n",
      "\n",
      "Enter a word to translate from English to Spanish (Type 0 to stop): you're welcome\n",
      "The Spanish word for 'you're welcome' is 'de nada'\n",
      "\n",
      "Enter a word to translate from English to Spanish (Type 0 to stop): computer\n",
      "The Spanish word for 'computer' is 'la computadora'\n",
      "\n",
      "Enter a word to translate from English to Spanish (Type 0 to stop): telephone\n",
      "The Spanish word for 'telephone' is not in this dictionary\n",
      "\n",
      "Enter a word to translate from English to Spanish (Type 0 to stop): 0\n"
     ]
    }
   ],
   "source": [
    "English_Spanish = {\"hello\": \"hola\",\n",
    "                   \"goodbye\": \"adiós\",\n",
    "                   \"thank you\": \"gracias\",\n",
    "                   \"you're welcome\": \"de nada\",\n",
    "                   \"thank you\": \"por favor\",\n",
    "                   \"good morning\": \"beunas días\",\n",
    "                   \"good afternoon\": \"beunas tardes\",\n",
    "                   \"good evening\": \"beunas noches\",\n",
    "                   \"friday\": \"viernes\",\n",
    "                   \"saturday\": \"sábado\",\n",
    "                   \"sunday\": \"domingo\",\n",
    "                   \"red\": \"rojo\",\n",
    "                   \"blue\": \"azul\",\n",
    "                   \"green\": \"verde\",\n",
    "                   \"house\": \"la casa\",\n",
    "                   \"school\": \"la escuela\",\n",
    "                   \"food\": \"la comida\",\n",
    "                   \"computer\": \"la computadora\",\n",
    "                   \"television\": \"la televisor\",\n",
    "                   \"car\": \"el coche\"}\n",
    "\n",
    "while True:\n",
    "    user_word = input(\"Enter a word to translate from English to Spanish (Type 0 to stop): \")\n",
    "    \n",
    "    if user_word.lower() in English_Spanish.keys():\n",
    "        print(f\"The Spanish word for '{user_word.lower()}' is '{English_Spanish.get(user_word.lower())}'\")\n",
    "        \n",
    "    else:\n",
    "        if user_word == '0':\n",
    "            break\n",
    "        else:\n",
    "            print(f\"The Spanish word for '{user_word}' is not in this dictionary\")\n",
    "    print(\"\")\n",
    "    "
   ]
  },
  {
   "cell_type": "markdown",
   "id": "11c5e5a5",
   "metadata": {},
   "source": [
    "\n",
    "**Temperature Converter**"
   ]
  },
  {
   "cell_type": "code",
   "execution_count": 2,
   "id": "a418a244",
   "metadata": {},
   "outputs": [
    {
     "name": "stdout",
     "output_type": "stream",
     "text": [
      "The daily highs for the month of September in Celsius are \n",
      "September 1: 29.44\n",
      "September 2: 28.33\n",
      "September 3: 28.89\n",
      "September 4: 28.89\n",
      "September 5: 27.78\n",
      "September 6: 30.56\n",
      "September 7: 30.0\n",
      "September 8: 29.44\n",
      "September 9: 27.22\n",
      "September 10: 27.78\n",
      "September 11: 28.89\n",
      "September 12: 30.56\n",
      "September 13: 31.67\n",
      "September 14: 31.67\n",
      "September 15: 28.89\n",
      "September 16: 29.44\n",
      "September 17: 31.67\n",
      "September 18: 31.67\n",
      "September 19: 30.0\n",
      "September 20: 25.56\n",
      "September 21: 25.56\n",
      "September 22: 21.67\n",
      "September 23: 21.67\n",
      "September 24: 23.89\n",
      "September 25: 23.33\n",
      "September 26: 25.0\n",
      "September 27: 29.44\n",
      "September 28: 30.56\n",
      "September 29: 31.67\n",
      "September 30: 30.0\n",
      "\n",
      "The daily lows for the month of September in Celsius are \n",
      "September 1: 20.56\n",
      "September 2: 16.11\n",
      "September 3: 16.11\n",
      "September 4: 17.78\n",
      "September 5: 18.89\n",
      "September 6: 15.56\n",
      "September 7: 17.22\n",
      "September 8: 18.89\n",
      "September 9: 15.0\n",
      "September 10: 15.56\n",
      "September 11: 16.11\n",
      "September 12: 20.56\n",
      "September 13: 20.56\n",
      "September 14: 21.67\n",
      "September 15: 21.67\n",
      "September 16: 20.56\n",
      "September 17: 21.11\n",
      "September 18: 22.22\n",
      "September 19: 22.22\n",
      "September 20: 21.67\n",
      "September 21: 21.11\n",
      "September 22: 12.78\n",
      "September 23: 10.56\n",
      "September 24: 10.0\n",
      "September 25: 12.22\n",
      "September 26: 10.0\n",
      "September 27: 14.44\n",
      "September 28: 20.0\n",
      "September 29: 18.89\n",
      "September 30: 20.0\n"
     ]
    }
   ],
   "source": [
    "# data pulled from \n",
    "# https://www.accuweather.com/en/us/louisville/40202/september-weather/348428?year=2021\n",
    "\n",
    "September_forecast = {\"high\":\n",
    "                             {\"September 1\": 85, \"September 2\": 83, \"September 3\": 84, \n",
    "                              \"September 4\": 84, \"September 5\": 82, \"September 6\": 87,\n",
    "                              \"September 7\": 86, \"September 8\": 85, \"September 9\": 81, \n",
    "                              \"September 10\": 82, \"September 11\": 84, \"September 12\": 87,\n",
    "                              \"September 13\": 89, \"September 14\": 89, \"September 15\": 84,\n",
    "                              \"September 16\": 85, \"September 17\": 89, \"September 18\": 89,\n",
    "                              \"September 19\": 86, \"September 20\": 78, \"September 21\": 78,\n",
    "                              \"September 22\": 71, \"September 23\": 71, \"September 24\": 75,\n",
    "                              \"September 25\": 74, \"September 26\": 77, \"September 27\": 85,\n",
    "                              \"September 28\": 87, \"September 29\": 89, \"September 30\": 86},\n",
    "                     \"low\":\n",
    "                             {\"September 1\": 69, \"September 2\": 61, \"September 3\": 61, \n",
    "                              \"September 4\": 64, \"September 5\": 66, \"September 6\": 60,\n",
    "                              \"September 7\": 63, \"September 8\": 66, \"September 9\": 59, \n",
    "                              \"September 10\": 60, \"September 11\": 61, \"September 12\": 69,\n",
    "                              \"September 13\": 69, \"September 14\": 71, \"September 15\": 71,\n",
    "                              \"September 16\": 69, \"September 17\": 70, \"September 18\": 72,\n",
    "                              \"September 19\": 72, \"September 20\": 71, \"September 21\": 70,\n",
    "                              \"September 22\": 55, \"September 23\": 51, \"September 24\": 50,\n",
    "                              \"September 25\": 54, \"September 26\": 50, \"September 27\": 58,\n",
    "                              \"September 28\": 68, \"September 29\": 66, \"September 30\": 68}\n",
    "                     }\n",
    "\n",
    "\n",
    "for i, j in September_forecast[\"high\"].items():\n",
    "    new_hightemp = float(\"{:.2f}\".format((5/9)*(j-32)))\n",
    "    September_forecast[\"high\"].update({i:new_hightemp})\n",
    "    \n",
    "for i, j in September_forecast[\"low\"].items():\n",
    "    new_hightemp = float(\"{:.2f}\".format((5/9)*(j-32)))\n",
    "    September_forecast[\"low\"].update({i:new_hightemp})\n",
    "\n",
    "\n",
    "print(\"The daily highs for the month of September in Celsius are \")\n",
    "for i, j in September_forecast[\"high\"].items():\n",
    "    print(f\"{i}: {j}\")\n",
    "\n",
    "print(\"\\nThe daily lows for the month of September in Celsius are \")\n",
    "for i, j in September_forecast[\"low\"].items():\n",
    "    print(f\"{i}: {j}\")"
   ]
  },
  {
   "cell_type": "code",
   "execution_count": 3,
   "id": "8c0f3a97",
   "metadata": {},
   "outputs": [
    {
     "name": "stdout",
     "output_type": "stream",
     "text": [
      "Days with the warmest high: \n",
      "September 13: 89\n",
      "September 14: 89\n",
      "September 17: 89\n",
      "September 18: 89\n",
      "September 29: 89\n",
      "\n",
      "Days with the coolest high: \n",
      "September 22: 71\n",
      "September 23: 71\n",
      "\n",
      "Days with the warmest lows: \n",
      "September 18: 72\n",
      "September 19: 72\n",
      "\n",
      "Days with the coolest lows: \n",
      "September 24: 50\n",
      "September 26: 50\n"
     ]
    }
   ],
   "source": [
    "September_forecast = {\"high\":\n",
    "                             {\"September 1\": 85, \"September 2\": 83, \"September 3\": 84, \n",
    "                              \"September 4\": 84, \"September 5\": 82, \"September 6\": 87,\n",
    "                              \"September 7\": 86, \"September 8\": 85, \"September 9\": 81, \n",
    "                              \"September 10\": 82, \"September 11\": 84, \"September 12\": 87,\n",
    "                              \"September 13\": 89, \"September 14\": 89, \"September 15\": 84,\n",
    "                              \"September 16\": 85, \"September 17\": 89, \"September 18\": 89,\n",
    "                              \"September 19\": 86, \"September 20\": 78, \"September 21\": 78,\n",
    "                              \"September 22\": 71, \"September 23\": 71, \"September 24\": 75,\n",
    "                              \"September 25\": 74, \"September 26\": 77, \"September 27\": 85,\n",
    "                              \"September 28\": 87, \"September 29\": 89, \"September 30\": 86},\n",
    "                     \"low\":\n",
    "                             {\"September 1\": 69, \"September 2\": 61, \"September 3\": 61, \n",
    "                              \"September 4\": 64, \"September 5\": 66, \"September 6\": 60,\n",
    "                              \"September 7\": 63, \"September 8\": 66, \"September 9\": 59, \n",
    "                              \"September 10\": 60, \"September 11\": 61, \"September 12\": 69,\n",
    "                              \"September 13\": 69, \"September 14\": 71, \"September 15\": 71,\n",
    "                              \"September 16\": 69, \"September 17\": 70, \"September 18\": 72,\n",
    "                              \"September 19\": 72, \"September 20\": 71, \"September 21\": 70,\n",
    "                              \"September 22\": 55, \"September 23\": 51, \"September 24\": 50,\n",
    "                              \"September 25\": 54, \"September 26\": 50, \"September 27\": 58,\n",
    "                              \"September 28\": 68, \"September 29\": 66, \"September 30\": 68}\n",
    "                     }\n",
    "\n",
    "print(\"Days with the warmest high: \")\n",
    "for i, j in September_forecast[\"high\"].items():\n",
    "    warmest_hightemp = max(list(September_forecast[\"high\"].values()))\n",
    "    if j == warmest_hightemp:\n",
    "        print(f\"{i}: {j}\")\n",
    "        \n",
    "print(\"\\nDays with the coolest high: \")\n",
    "for i, j in September_forecast[\"high\"].items():\n",
    "    coolest_hightemp = min(list(September_forecast[\"high\"].values()))\n",
    "    if j == coolest_hightemp:\n",
    "        print(f\"{i}: {j}\")\n",
    "        \n",
    "print(\"\\nDays with the warmest lows: \")\n",
    "for i, j in September_forecast[\"low\"].items():\n",
    "    warmest_lowtemp = max(list(September_forecast[\"low\"].values()))\n",
    "    if j == warmest_lowtemp:\n",
    "        print(f\"{i}: {j}\")\n",
    "        \n",
    "print(\"\\nDays with the coolest lows: \")\n",
    "for i, j in September_forecast[\"low\"].items():\n",
    "    coolest_lowtemp = min(list(September_forecast[\"low\"].values()))\n",
    "    if j == coolest_lowtemp:\n",
    "        print(f\"{i}: {j}\")\n"
   ]
  },
  {
   "cell_type": "markdown",
   "id": "170f821b",
   "metadata": {},
   "source": [
    "\n",
    "**Operation Definition and Example**"
   ]
  },
  {
   "cell_type": "markdown",
   "id": "7147e8f0",
   "metadata": {},
   "source": [
    "**Symmetric Difference(^)**"
   ]
  },
  {
   "cell_type": "markdown",
   "id": "5e0d1807",
   "metadata": {},
   "source": [
    "The symmetric difference operation `^` forms a set that contians elements that are unique to each set. Elements that belong to only one of the two sets will be present in the new set that is created."
   ]
  },
  {
   "cell_type": "code",
   "execution_count": 4,
   "id": "7249301b",
   "metadata": {},
   "outputs": [
    {
     "data": {
      "text/plain": [
       "{2, 7, 8, 9, 11, 13}"
      ]
     },
     "execution_count": 4,
     "metadata": {},
     "output_type": "execute_result"
    }
   ],
   "source": [
    "set1 = {1, 3, 5, 7, 9, 11}\n",
    "set2 = {1, 2, 3, 5, 8, 13}\n",
    "set1^set2"
   ]
  },
  {
   "cell_type": "markdown",
   "id": "029fe718",
   "metadata": {},
   "source": [
    "In this example of the symmetric difference operation, the line `set1^set2` creates a new set with elements `{2, 7, 8, 9, 11, 13}`. This is because these elements are only present in one of the two sets. The elements `1, 3, 5` are left out because they are present in both set1 and set2"
   ]
  },
  {
   "cell_type": "markdown",
   "id": "c60e4270",
   "metadata": {},
   "source": [
    "**Disjoint**"
   ]
  },
  {
   "cell_type": "markdown",
   "id": "a724eaab",
   "metadata": {},
   "source": [
    "If two sets are disjoint this means that there are no elements that appear in both sets. The way that we can test is two sets is by using .disjoint(), which tests to see if 2 sets do not share any common elements. If the two sets do not share any common elements True is returned, but if there is one or more common elements than False is returned."
   ]
  },
  {
   "cell_type": "code",
   "execution_count": 5,
   "id": "d389bee0",
   "metadata": {},
   "outputs": [
    {
     "data": {
      "text/plain": [
       "True"
      ]
     },
     "execution_count": 5,
     "metadata": {},
     "output_type": "execute_result"
    }
   ],
   "source": [
    "set1 = {5, 15, 25, 35, 45}\n",
    "set2 = {0, 10, 20, 30, 40}\n",
    "set1.isdisjoint(set2)"
   ]
  },
  {
   "cell_type": "markdown",
   "id": "984325c7",
   "metadata": {},
   "source": [
    "In this first example, set1 and set2 are considered disjointed sets because they do not have any elements that the other set has. set1 has elements `{5, 15, 25, 35, 45}`, whereas set2 has elements `{0, 10, 20, 30, 40}`. Since set1 doesn't have any elements that are in set2 and set2 doesn't have any elements that are in set1, the line `set1.isdisjoint(set2)` returns True"
   ]
  },
  {
   "cell_type": "code",
   "execution_count": 6,
   "id": "b7485557",
   "metadata": {},
   "outputs": [
    {
     "data": {
      "text/plain": [
       "False"
      ]
     },
     "execution_count": 6,
     "metadata": {},
     "output_type": "execute_result"
    }
   ],
   "source": [
    "set1 = {5, 10, 15, 25, 35, 45}\n",
    "set2 = {0, 10, 20, 30, 40}\n",
    "set1.isdisjoint(set2)"
   ]
  },
  {
   "cell_type": "markdown",
   "id": "92cafc34",
   "metadata": {},
   "source": [
    "In this second example, set1 and set2 are not considered to be disjointed sets, since they share an element. set1 has the elements `{5, 10, 15, 25, 35, 45}`, whereas the set2 has the elements `{0, 10, 20, 30, 40}`. The element that they share is 10. Since they share at least one element, the line `set1.isdisjoint(set2)` returns False."
   ]
  },
  {
   "cell_type": "markdown",
   "id": "b269c5bd",
   "metadata": {},
   "source": [
    "**intersection_update (&=)**"
   ]
  },
  {
   "cell_type": "markdown",
   "id": "70a6a783",
   "metadata": {},
   "source": [
    "The intersection_update (&=) operation updates or modifies whichever set is to the left of &= to only include the elements in which are present in both sets"
   ]
  },
  {
   "cell_type": "code",
   "execution_count": 7,
   "id": "9afd3567",
   "metadata": {},
   "outputs": [
    {
     "data": {
      "text/plain": [
       "{1, 3, 5}"
      ]
     },
     "execution_count": 7,
     "metadata": {},
     "output_type": "execute_result"
    }
   ],
   "source": [
    "set1 = {0, 1, 2, 3, 5, 8, 11}\n",
    "set2 = {1, 3, 5, 7, 9}\n",
    "set1&=set2\n",
    "set1"
   ]
  },
  {
   "cell_type": "markdown",
   "id": "8809b4d0",
   "metadata": {},
   "source": [
    "In this example of the intersection_update operation, set1 contains the elements `{0, 1, 2, 3, 5, 8, 11}`, where set2 contains the elements `{1, 3, 5, 7, 9}`. The elements that set1 and set2 share or both have in common are the elements `{1, 3, 5}`. So the line `{set1&=set2}` updates set 1 to only contain the shared elements `{1, 3, 5}`"
   ]
  },
  {
   "cell_type": "markdown",
   "id": "9bcda8bc",
   "metadata": {},
   "source": [
    "**Symmetric difference update(^=)**"
   ]
  },
  {
   "cell_type": "markdown",
   "id": "718ede7c",
   "metadata": {},
   "source": [
    "The `symmetric_difference_ update (^=)` operation updates or modifies the elements of whichever set is to the left of the `&=` to only include the elements that are unique to both sets. "
   ]
  },
  {
   "cell_type": "code",
   "execution_count": 8,
   "id": "166d17fa",
   "metadata": {},
   "outputs": [
    {
     "data": {
      "text/plain": [
       "{0, 2, 7, 8, 9, 11}"
      ]
     },
     "execution_count": 8,
     "metadata": {},
     "output_type": "execute_result"
    }
   ],
   "source": [
    "set1 = {0, 1, 2, 3, 5, 8, 11}\n",
    "set2 = {1, 3, 5, 7, 9}\n",
    "set1^=set2\n",
    "set1"
   ]
  },
  {
   "cell_type": "markdown",
   "id": "2240fc96",
   "metadata": {},
   "source": [
    "In this example of the Systemtric difference update, set1 contains the elements `{0, 1, 2, 3, 6, 8, 11}`, whereas set2 contains the elements `{1, 3, 5, 7, 9}`. The elements that are unique to set1 are `{0, 2, 8, 11}`. The elements that are unique to set2 are `{7, 9}`. So the line `set1^=set1` updates set to include the elements that are unique to set1 and set2. As a result, the set1 becomes `{0, 2, 7, 8, 9, 11}`."
   ]
  },
  {
   "cell_type": "markdown",
   "id": "d7279adf",
   "metadata": {},
   "source": [
    "**remove(), discard(), pop()**"
   ]
  },
  {
   "cell_type": "markdown",
   "id": "304ad805",
   "metadata": {},
   "source": [
    "The `remove()`, `discard()`, and `pop()` operations are all used to remove elements from a set, but each have a slight difference. \n",
    "\n",
    "The `remove()` operation can remove an element from a set, but the given element **MUST** be in the set. Otherwise an error occurs. \n",
    "\n",
    "The `discard()` operation can remove an element from a set, but the given element doesn't neccessarily have to be in the set. If the element is within the set, the element is simply removed. But if the element is not within the set, no error message occurs. \n",
    "\n",
    "The `pop()` operation can remove an element from the set, but removes a random element from the set. An error really only occurs if you are using the `.pop()` operation on a set that doesn't have any elements, since there would not be any elements to remove in the first place."
   ]
  },
  {
   "cell_type": "code",
   "execution_count": 9,
   "id": "4ef72a40",
   "metadata": {},
   "outputs": [
    {
     "data": {
      "text/plain": [
       "{0, 2, 4, 8, 10, 12, 14, 16, 18, 20}"
      ]
     },
     "execution_count": 9,
     "metadata": {},
     "output_type": "execute_result"
    }
   ],
   "source": [
    "set1 = {0, 2, 4, 6, 8, 10, 12, 14, 16, 18, 20}\n",
    "set1.remove(6)\n",
    "set1"
   ]
  },
  {
   "cell_type": "code",
   "execution_count": 10,
   "id": "1a855c75",
   "metadata": {},
   "outputs": [
    {
     "ename": "KeyError",
     "evalue": "6",
     "output_type": "error",
     "traceback": [
      "\u001b[0;31m---------------------------------------------------------------------------\u001b[0m",
      "\u001b[0;31mKeyError\u001b[0m                                  Traceback (most recent call last)",
      "\u001b[0;32m<ipython-input-10-45ab151c6d1c>\u001b[0m in \u001b[0;36m<module>\u001b[0;34m\u001b[0m\n\u001b[0;32m----> 1\u001b[0;31m \u001b[0mset1\u001b[0m\u001b[0;34m.\u001b[0m\u001b[0mremove\u001b[0m\u001b[0;34m(\u001b[0m\u001b[0;36m6\u001b[0m\u001b[0;34m)\u001b[0m\u001b[0;34m\u001b[0m\u001b[0;34m\u001b[0m\u001b[0m\n\u001b[0m\u001b[1;32m      2\u001b[0m \u001b[0mset1\u001b[0m\u001b[0;34m\u001b[0m\u001b[0;34m\u001b[0m\u001b[0m\n",
      "\u001b[0;31mKeyError\u001b[0m: 6"
     ]
    }
   ],
   "source": [
    "set1.remove(6)\n",
    "set1"
   ]
  },
  {
   "cell_type": "markdown",
   "id": "41d6870a",
   "metadata": {},
   "source": [
    "In these examples of the remove() operation, set1 has the elements `{0, 2, 4, 6, 8, 10, 12, 14, 16, 18, 20}`. In the first example, the line `set1.remove(6)` removes 6 from the set. But in the second example, I attempted to remove 6 which currently is not present in set1 since it had previously been removed. As a result, the line `set1.remove(6)` in the second example returns an error saying that I'm trying to remove an element that is not present in set1. "
   ]
  },
  {
   "cell_type": "code",
   "execution_count": 11,
   "id": "69b07086",
   "metadata": {},
   "outputs": [
    {
     "data": {
      "text/plain": [
       "{0, 2, 4, 8, 10, 12, 14, 16, 18, 20}"
      ]
     },
     "execution_count": 11,
     "metadata": {},
     "output_type": "execute_result"
    }
   ],
   "source": [
    "set1 = {0, 2, 4, 6, 8, 10, 12, 14, 16, 18, 20}\n",
    "set1.discard(6)\n",
    "set1"
   ]
  },
  {
   "cell_type": "code",
   "execution_count": 12,
   "id": "bcb914e3",
   "metadata": {},
   "outputs": [
    {
     "data": {
      "text/plain": [
       "{0, 2, 4, 8, 10, 12, 14, 16, 18, 20}"
      ]
     },
     "execution_count": 12,
     "metadata": {},
     "output_type": "execute_result"
    }
   ],
   "source": [
    "set1.discard(6)\n",
    "set1"
   ]
  },
  {
   "cell_type": "markdown",
   "id": "68f90ae2",
   "metadata": {},
   "source": [
    "In these examples of the `discard()` operation, set 1 has the elements `{0, 2, 4, 6, 8, 10, 12, 16, 18, 20}`. In the first example, the line `set1.discard(6)` removes 6 from the set. But in the example, I attempt to remove 6, which was previously removed from th set, again from the set. But unlike the `remove()` operation, `discard()` doesn't produce an error message because of the fact that the element that you are trying to discard doesn't neccessarily have to be in the set. Therefore, the set1 is just returned back. "
   ]
  },
  {
   "cell_type": "code",
   "execution_count": 13,
   "id": "efc3af06",
   "metadata": {},
   "outputs": [
    {
     "name": "stdout",
     "output_type": "stream",
     "text": [
      "0\n"
     ]
    },
    {
     "data": {
      "text/plain": [
       "{2, 4, 6, 8, 10, 12, 14, 16, 18, 20}"
      ]
     },
     "execution_count": 13,
     "metadata": {},
     "output_type": "execute_result"
    }
   ],
   "source": [
    "set1 = {0, 2, 4, 6, 8, 10, 12, 14, 16, 18, 20}\n",
    "print(set1.pop())\n",
    "set1"
   ]
  },
  {
   "cell_type": "code",
   "execution_count": 14,
   "id": "3cb31d3b",
   "metadata": {},
   "outputs": [
    {
     "ename": "KeyError",
     "evalue": "'pop from an empty set'",
     "output_type": "error",
     "traceback": [
      "\u001b[0;31m---------------------------------------------------------------------------\u001b[0m",
      "\u001b[0;31mKeyError\u001b[0m                                  Traceback (most recent call last)",
      "\u001b[0;32m<ipython-input-14-835c7374364c>\u001b[0m in \u001b[0;36m<module>\u001b[0;34m\u001b[0m\n\u001b[1;32m      1\u001b[0m \u001b[0mset1\u001b[0m \u001b[0;34m=\u001b[0m \u001b[0mset\u001b[0m\u001b[0;34m(\u001b[0m\u001b[0;34m)\u001b[0m\u001b[0;34m\u001b[0m\u001b[0;34m\u001b[0m\u001b[0m\n\u001b[0;32m----> 2\u001b[0;31m \u001b[0mset1\u001b[0m\u001b[0;34m.\u001b[0m\u001b[0mpop\u001b[0m\u001b[0;34m(\u001b[0m\u001b[0;34m)\u001b[0m\u001b[0;34m\u001b[0m\u001b[0;34m\u001b[0m\u001b[0m\n\u001b[0m",
      "\u001b[0;31mKeyError\u001b[0m: 'pop from an empty set'"
     ]
    }
   ],
   "source": [
    "set1 = set()\n",
    "set1.pop()"
   ]
  },
  {
   "cell_type": "markdown",
   "id": "ae4d31ed",
   "metadata": {},
   "source": [
    "In these examples of the `pop()` operation, set1 has the elements `{0, 2, 4, 6, 8, 10, 12, 14, 16, 18, 20}`. In the first example, the line `set1.pop()` randomly selects an element to remove since set elements aren't indexed. So the element that is removed in this case is 0. In the second case, I showed that if you try to use the `.pop()` operation on a set with no elements, an error message is encountered. "
   ]
  }
 ],
 "metadata": {
  "kernelspec": {
   "display_name": "Python 3",
   "language": "python",
   "name": "python3"
  },
  "language_info": {
   "codemirror_mode": {
    "name": "ipython",
    "version": 3
   },
   "file_extension": ".py",
   "mimetype": "text/x-python",
   "name": "python",
   "nbconvert_exporter": "python",
   "pygments_lexer": "ipython3",
   "version": "3.8.8"
  }
 },
 "nbformat": 4,
 "nbformat_minor": 5
}
